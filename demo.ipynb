{
 "cells": [
  {
   "cell_type": "code",
   "execution_count": null,
   "metadata": {
    "ExecuteTime": {
     "end_time": "2018-02-24T10:54:10.700106Z",
     "start_time": "2018-02-24T10:54:10.505385Z"
    }
   },
   "outputs": [],
   "source": [
    "%pylab\n",
    "%matplotlib inline"
   ]
  },
  {
   "cell_type": "code",
   "execution_count": null,
   "metadata": {
    "ExecuteTime": {
     "end_time": "2018-02-24T10:54:10.868992Z",
     "start_time": "2018-02-24T10:54:10.701764Z"
    }
   },
   "outputs": [],
   "source": [
    "import gocell\n",
    "import scipy.ndimage as ndi"
   ]
  },
  {
   "cell_type": "code",
   "execution_count": null,
   "metadata": {
    "ExecuteTime": {
     "end_time": "2018-02-24T10:54:10.909526Z",
     "start_time": "2018-02-24T10:54:10.870361Z"
    }
   },
   "outputs": [],
   "source": [
    "pipeline = gocell.pipeline.create_default_pipeline(2)"
   ]
  },
  {
   "cell_type": "code",
   "execution_count": null,
   "metadata": {
    "ExecuteTime": {
     "end_time": "2018-02-24T10:54:11.269062Z",
     "start_time": "2018-02-24T10:54:10.911608Z"
    }
   },
   "outputs": [],
   "source": [
    "g_raw = gocell.io.imread('~/Documents/data/isbi2013/N2DH-GOWT1/02/t%02d.tif' % 0)\n",
    "imshow(g_raw, 'gray')\n",
    "tight_layout()"
   ]
  },
  {
   "cell_type": "code",
   "execution_count": null,
   "metadata": {},
   "outputs": [],
   "source": [
    "g = gocell.surface.Surface.create_from_image(ndi.gaussian_filter(g_raw, 1))\n",
    "\n",
    "mask = zeros(g_raw.shape, bool)\n",
    "mask[60:190, 250:450] = True\n",
    "t = 0.1\n",
    "img = (g.model - t)\n",
    "imshow(img * mask, 'bwr')\n",
    "colorbar()\n",
    "clim(-0.1 * abs(img).max(), +0.1 * abs(img).max())\n",
    "xlim(200, 500)\n",
    "ylim(200, 0)\n",
    "tight_layout()"
   ]
  },
  {
   "cell_type": "code",
   "execution_count": null,
   "metadata": {},
   "outputs": [],
   "source": [
    "roi = gocell.surface.Surface(g.model.shape, g.model, mask=mask)\n",
    "J, result = gocell.modelfit.modelfit(g, roi, t, 2., True, bg_radius=100)"
   ]
  },
  {
   "cell_type": "code",
   "execution_count": null,
   "metadata": {},
   "outputs": [],
   "source": [
    "smap = full(g_raw.shape, nan)\n",
    "smap[roi.mask] = result.s(J.x, J.smooth_mat)\n",
    "imshow(smap, 'bwr')\n",
    "colorbar()\n",
    "clim(-np.nanmax(smap), +np.nanmax(smap))\n",
    "xlim(200, 500)\n",
    "ylim(200, 0)\n",
    "tight_layout()"
   ]
  },
  {
   "cell_type": "code",
   "execution_count": null,
   "metadata": {},
   "outputs": [],
   "source": [
    "gocell.mapper.fork.DEBUG = True"
   ]
  },
  {
   "cell_type": "code",
   "execution_count": null,
   "metadata": {
    "ExecuteTime": {
     "end_time": "2018-02-24T10:55:48.382597Z",
     "start_time": "2018-02-24T10:54:11.270495Z"
    },
    "scrolled": false
   },
   "outputs": [],
   "source": [
    "data, cfg = pipeline.process_image(g_raw, cfg={\n",
    "        'preprocess': {\n",
    "            'remove_dark_spots': True\n",
    "        },\n",
    "        'seeds': {\n",
    "            'max_count': 100,\n",
    "            'exclude_border': False\n",
    "        },\n",
    "        'superpixels_entropy': {\n",
    "            'sigma': 9.\n",
    "        },\n",
    "        'compute_candidates': {\n",
    "            'max_superpixel_distance': 85,\n",
    "            'max_superpixel_depth': 2\n",
    "        },\n",
    "        'max_setpack_weights': {\n",
    "            'beta': 1\n",
    "        },\n",
    "        'postprocess': {\n",
    "            'energy_threshold': {\n",
    "                'gauss_tolerance': 1\n",
    "            }\n",
    "        }\n",
    "    });"
   ]
  },
  {
   "cell_type": "code",
   "execution_count": null,
   "metadata": {},
   "outputs": [],
   "source": [
    "figure(figsize=(6,6))\n",
    "imshow(smoothmat2[:100, :100], interpolation='none')"
   ]
  },
  {
   "cell_type": "code",
   "execution_count": null,
   "metadata": {},
   "outputs": [],
   "source": [
    "allclose(smoothmat2, smoothmat1)"
   ]
  },
  {
   "cell_type": "code",
   "execution_count": null,
   "metadata": {},
   "outputs": [],
   "source": [
    "figure(figsize=(10,10))\n",
    "imshow(smoothmat, interpolation='none')\n",
    "tight_layout()"
   ]
  },
  {
   "cell_type": "code",
   "execution_count": null,
   "metadata": {
    "ExecuteTime": {
     "end_time": "2018-02-24T10:55:51.369901Z",
     "start_time": "2018-02-24T10:55:48.384415Z"
    }
   },
   "outputs": [],
   "source": [
    "figure(figsize=(6,6))\n",
    "imshow(gocell.render.render_superpixels(data, border_radius=2))\n",
    "tight_layout()"
   ]
  },
  {
   "cell_type": "code",
   "execution_count": null,
   "metadata": {
    "ExecuteTime": {
     "end_time": "2018-02-24T10:55:52.493767Z",
     "start_time": "2018-02-24T10:55:51.371239Z"
    }
   },
   "outputs": [],
   "source": [
    "figure(figsize=(6,6))\n",
    "imshow(gocell.render.render_activity_regions(data))\n",
    "tight_layout()"
   ]
  },
  {
   "cell_type": "code",
   "execution_count": null,
   "metadata": {
    "ExecuteTime": {
     "end_time": "2018-02-24T10:55:55.444310Z",
     "start_time": "2018-02-24T10:55:52.494929Z"
    }
   },
   "outputs": [],
   "source": [
    "figure(figsize=(6,6))\n",
    "imshow(gocell.render.render_model_shapes_over_image(data))\n",
    "tight_layout()"
   ]
  },
  {
   "cell_type": "code",
   "execution_count": null,
   "metadata": {
    "ExecuteTime": {
     "end_time": "2018-02-24T10:56:00.497525Z",
     "start_time": "2018-02-24T10:55:55.445850Z"
    }
   },
   "outputs": [],
   "source": [
    "data, cfg = pipeline.process_image(g_raw, data=data, first_stage='max_setpack_weights',\n",
    "                                   cfg=gocell.config.derive(cfg, {\n",
    "        'max_setpack_weights': {\n",
    "            'alpha': 0\n",
    "        }\n",
    "    }))\n",
    "\n",
    "imshow(gocell.render.render_model_shapes_over_image(data))\n",
    "tight_layout()"
   ]
  },
  {
   "cell_type": "code",
   "execution_count": null,
   "metadata": {
    "ExecuteTime": {
     "end_time": "2018-02-24T10:57:03.941262Z",
     "start_time": "2018-02-24T10:57:00.881673Z"
    }
   },
   "outputs": [],
   "source": [
    "imshow(gocell.render.rasterize_labels(data))\n",
    "tight_layout()"
   ]
  },
  {
   "cell_type": "code",
   "execution_count": null,
   "metadata": {
    "ExecuteTime": {
     "end_time": "2018-02-24T10:57:08.307316Z",
     "start_time": "2018-02-24T10:57:05.131940Z"
    }
   },
   "outputs": [],
   "source": [
    "imshow(gocell.render.rasterize_labels(data, merge_overlap_threshold=0.8))\n",
    "tight_layout()"
   ]
  }
 ],
 "metadata": {
  "kernelspec": {
   "display_name": "Python 3",
   "language": "python",
   "name": "python3"
  },
  "language_info": {
   "codemirror_mode": {
    "name": "ipython",
    "version": 3
   },
   "file_extension": ".py",
   "mimetype": "text/x-python",
   "name": "python",
   "nbconvert_exporter": "python",
   "pygments_lexer": "ipython3",
   "version": "3.7.6"
  },
  "varInspector": {
   "cols": {
    "lenName": 16,
    "lenType": 16,
    "lenVar": 40
   },
   "kernels_config": {
    "python": {
     "delete_cmd_postfix": "",
     "delete_cmd_prefix": "del ",
     "library": "var_list.py",
     "varRefreshCmd": "print(var_dic_list())"
    },
    "r": {
     "delete_cmd_postfix": ") ",
     "delete_cmd_prefix": "rm(",
     "library": "var_list.r",
     "varRefreshCmd": "cat(var_dic_list()) "
    }
   },
   "types_to_exclude": [
    "module",
    "function",
    "builtin_function_or_method",
    "instance",
    "_Feature"
   ],
   "window_display": false
  }
 },
 "nbformat": 4,
 "nbformat_minor": 1
}
